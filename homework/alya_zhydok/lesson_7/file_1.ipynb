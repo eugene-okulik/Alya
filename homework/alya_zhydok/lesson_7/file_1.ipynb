{
 "cells": [
  {
   "cell_type": "code",
   "execution_count": 1,
   "id": "f631f350",
   "metadata": {},
   "outputs": [
    {
     "name": "stdout",
     "output_type": "stream",
     "text": [
      "попробуйте снова\n",
      "попробуйте снова\n",
      "попробуйте снова\n",
      "Поздравляю! Вы угадали!\n"
     ]
    }
   ],
   "source": [
    "\n",
    "\n",
    "while  True:\n",
    "    a = '3'\n",
    "    user_input = input('Enter a number')\n",
    "    if user_input == a:\n",
    "        print('Поздравляю! Вы угадали!')\n",
    "        break\n",
    "    else:\n",
    "        print('попробуйте снова')\n",
    "\n",
    "\n"
   ]
  },
  {
   "cell_type": "code",
   "execution_count": null,
   "id": "36aafe1e",
   "metadata": {},
   "outputs": [],
   "source": []
  }
 ],
 "metadata": {
  "kernelspec": {
   "display_name": "Python 3",
   "language": "python",
   "name": "python3"
  },
  "language_info": {
   "codemirror_mode": {
    "name": "ipython",
    "version": 3
   },
   "file_extension": ".py",
   "mimetype": "text/x-python",
   "name": "python",
   "nbconvert_exporter": "python",
   "pygments_lexer": "ipython3",
   "version": "3.9.12"
  }
 },
 "nbformat": 4,
 "nbformat_minor": 5
}
